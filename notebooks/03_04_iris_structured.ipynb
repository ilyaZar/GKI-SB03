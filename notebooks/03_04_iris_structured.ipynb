{
 "cells": [
  {
   "cell_type": "markdown",
   "id": "9f8d79e6",
   "metadata": {},
   "source": [
    "# Entscheidungsbaum-Klassifikation mit dem Iris-Datensatz\n",
    "In diesem Notebook wird ein **Entscheidungsbaum** mit dem Iris-Datensatz\n",
    "trainiert, evaluiert und visualisiert. Der Fokus liegt auf Interpretierbarkeit\n",
    "und praktischer Anwendung klassischer ML-Methoden."
   ]
  },
  {
   "cell_type": "markdown",
   "id": "980c1390",
   "metadata": {},
   "source": [
    "## Bibliotheken importieren"
   ]
  },
  {
   "cell_type": "code",
   "execution_count": null,
   "id": "fcc59191",
   "metadata": {},
   "outputs": [],
   "source": [
    "import pandas as pd"
   ]
  },
  {
   "cell_type": "markdown",
   "id": "49e7935c",
   "metadata": {},
   "source": [
    "## Daten laden"
   ]
  },
  {
   "cell_type": "code",
   "execution_count": null,
   "id": "4d283336",
   "metadata": {},
   "outputs": [],
   "source": [
    "file_path = '../data/processed/iris.csv'\n",
    "df = pd.read_csv(file_path, sep=',')"
   ]
  },
  {
   "cell_type": "markdown",
   "id": "f3ecac23",
   "metadata": {},
   "source": [
    "## Feature-Ziel-Trennung"
   ]
  },
  {
   "cell_type": "code",
   "execution_count": null,
   "id": "c972b40a",
   "metadata": {},
   "outputs": [],
   "source": [
    "features = [c for c in df.columns if c != 'species']\n",
    "X = df[features]\n",
    "y = df['species']"
   ]
  },
  {
   "cell_type": "markdown",
   "id": "18fd468f",
   "metadata": {},
   "source": [
    "## Aufteilen in Trainings- und Testdaten"
   ]
  },
  {
   "cell_type": "code",
   "execution_count": null,
   "id": "eb379162",
   "metadata": {},
   "outputs": [],
   "source": [
    "from sklearn.model_selection import train_test_split\n",
    "X_tr, X_tst, y_tr, y_tst = train_test_split(\n",
    "    X, y, test_size=0.2, random_state=42, stratify=y\n",
    ")"
   ]
  },
  {
   "cell_type": "markdown",
   "id": "6c070e8d",
   "metadata": {},
   "source": [
    "## Entscheidungsbaum definieren und trainieren"
   ]
  },
  {
   "cell_type": "code",
   "execution_count": null,
   "id": "3881eaeb",
   "metadata": {},
   "outputs": [],
   "source": [
    "from sklearn.tree import DecisionTreeClassifier\n",
    "model = DecisionTreeClassifier()\n",
    "model.fit(X_tr, y_tr)"
   ]
  },
  {
   "cell_type": "markdown",
   "id": "cbb17014",
   "metadata": {},
   "source": [
    "## Vorhersage auf Testdaten"
   ]
  },
  {
   "cell_type": "code",
   "execution_count": null,
   "id": "464828f6",
   "metadata": {},
   "outputs": [],
   "source": [
    "y_predicted = model.predict(X_tst)"
   ]
  },
  {
   "cell_type": "markdown",
   "id": "98e38667",
   "metadata": {},
   "source": [
    "## Konfusionsmatrix erstellen"
   ]
  },
  {
   "cell_type": "code",
   "execution_count": null,
   "id": "fd79bba8",
   "metadata": {},
   "outputs": [],
   "source": [
    "from sklearn.metrics import confusion_matrix\n",
    "matrix = confusion_matrix(y_tst, y_predicted)\n",
    "print('Confusion Matrix:')\n",
    "print(matrix)"
   ]
  },
  {
   "cell_type": "markdown",
   "id": "ba8e782e",
   "metadata": {},
   "source": [
    "## Klassifikationsbericht"
   ]
  },
  {
   "cell_type": "code",
   "execution_count": null,
   "id": "abd2a2c2",
   "metadata": {},
   "outputs": [],
   "source": [
    "from sklearn.metrics import classification_report\n",
    "report = classification_report(y_tst, y_predicted, digits=3)\n",
    "print('Classification Report:')\n",
    "print(report)"
   ]
  },
  {
   "cell_type": "markdown",
   "id": "43b7ad0a",
   "metadata": {},
   "source": [
    "## Visualisierung des Entscheidungsbaums"
   ]
  },
  {
   "cell_type": "code",
   "execution_count": null,
   "id": "4c81d7e5",
   "metadata": {},
   "outputs": [],
   "source": [
    "from sklearn.tree import plot_tree\n",
    "import matplotlib.pyplot as plt\n",
    "\n",
    "plt.figure(figsize=(12, 8))\n",
    "plot_tree(\n",
    "    model,\n",
    "    feature_names=features,\n",
    "    class_names=model.classes_,\n",
    "    filled=True,\n",
    "    rounded=True,\n",
    "    fontsize=6\n",
    ")\n",
    "plt.show()\n",
    "plt.savefig('../figs/baumstruktur.png', dpi=300, bbox_inches='tight')"
   ]
  },
  {
   "cell_type": "markdown",
   "id": "22cbf01b",
   "metadata": {},
   "source": [
    "### Hinweise zur Interpretation\n",
    "- Jeder Knoten enthält das Splitting-Kriterium und die Klassenzugehörigkeit\n",
    "- Die Färbung spiegelt die Dominanz der jeweiligen Klasse wider\n",
    "- Je höher die Diagonaleinträge in der Confusion Matrix, desto besser die Klassifikation\n",
    "- `ccp_alpha` kann verwendet werden, um Pruning zu steuern und Overfitting zu vermeiden"
   ]
  }
 ],
 "metadata": {
  "kernelspec": {
   "display_name": "Python 3",
   "name": "python3"
  }
 },
 "nbformat": 4,
 "nbformat_minor": 5
}
