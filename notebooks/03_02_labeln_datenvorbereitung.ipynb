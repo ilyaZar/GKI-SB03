{
 "cells": [
  {
   "cell_type": "markdown",
   "id": "0c12e9b4",
   "metadata": {},
   "source": [
    "# Klassifikation von Rot- und Weißwein mit Keras\n",
    "In diesem Notebook führen wir die vollständige Datenaufbereitung, Modellierung, Visualisierung und Evaluierung eines neuronalen Netzes zur Unterscheidung von Rot- und Weißwein durch."
   ]
  },
  {
   "cell_type": "code",
   "execution_count": 13,
   "id": "96f74eda",
   "metadata": {},
   "outputs": [],
   "source": [
    "import pandas as pd\n",
    "import numpy as np\n",
    "import keras as K\n",
    "import matplotlib.pyplot as plt\n",
    "from sklearn.model_selection import train_test_split\n",
    "from sklearn.preprocessing import StandardScaler"
   ]
  },
  {
   "cell_type": "markdown",
   "id": "679f2e0c",
   "metadata": {},
   "source": [
    "## Einlesen der Weindaten\n",
    "Die CSV-Dateien befinden sich im Unterordner `data/processed`. Sie enthalten standardisierte chemische Merkmale für Rot- und Weißweine."
   ]
  },
  {
   "cell_type": "code",
   "execution_count": 14,
   "id": "6ccb61a3",
   "metadata": {},
   "outputs": [],
   "source": [
    "white = pd.read_csv('../data/processed/winequality-white.csv', sep=';')\n",
    "red = pd.read_csv('../data/processed/winequality-red.csv', sep=';')"
   ]
  },
  {
   "cell_type": "markdown",
   "id": "f9403c8c",
   "metadata": {},
   "source": [
    "## Labeln und Zusammenführen der Datensätze\n",
    "Für supervised learning bönitgen wir labels:\n",
    "- Rotwein erhält das Label `1`\n",
    "- Weißwein das Label `0`\n",
    "\n",
    "Danach werden die Daten zusammengeführt."
   ]
  },
  {
   "cell_type": "code",
   "execution_count": 15,
   "id": "66f5b759",
   "metadata": {},
   "outputs": [],
   "source": [
    "red['label'] = 1\n",
    "white['label'] = 0\n",
    "wines = pd.concat([red, white], ignore_index=True)"
   ]
  },
  {
   "cell_type": "markdown",
   "id": "572e4202",
   "metadata": {},
   "source": [
    "## Feature-Matrix und Zielvariable erzeugen\n",
    "Die ersten 11 Spalten (chemische Eigenschaften) dienen als Input-Variablen\n",
    "(Features). Die Zielvariable `y` ist das binäre Label (1 = Rotwein, 0 = Weißwein),\n",
    "und wird in 1D-Array umgewandelt."
   ]
  },
  {
   "cell_type": "code",
   "execution_count": 16,
   "id": "7179a4e9",
   "metadata": {},
   "outputs": [],
   "source": [
    "x = wines.iloc[:, 0:11]\n",
    "y = np.ravel(wines['label'])"
   ]
  },
  {
   "cell_type": "markdown",
   "id": "2f5a7912",
   "metadata": {},
   "source": [
    "## Aufteilung in Trainings- und Testdaten\n",
    "Der Datensatz wird im Verhältnis 70:30 in Trainings- und Testdaten aufgeteilt\n",
    "(70% Trainingsdaten)."
   ]
  },
  {
   "cell_type": "code",
   "execution_count": 17,
   "id": "2f5ce995",
   "metadata": {},
   "outputs": [],
   "source": [
    "x_train, x_test, y_train, y_test = train_test_split(\n",
    "    x, y, test_size = 0.3, random_state = 42)"
   ]
  },
  {
   "cell_type": "markdown",
   "id": "38610c16",
   "metadata": {},
   "source": [
    "## Skalierung der Merkmale\n",
    "Die Daten werden mit dem `StandardScaler` auf Mittelwert 0 und Standardabweichung\n",
    " 1 standardisiert. Unterschiedliche Skalen der Inputvariablen (z. B. pH vs.\n",
    " Alkohol) können das Training stören. Der Fit erfolgt\n",
    " **nur auf dem Trainingsset, aber: Testdaten müssen auch transformiert werden**."
   ]
  },
  {
   "cell_type": "code",
   "execution_count": 18,
   "id": "e4236603",
   "metadata": {},
   "outputs": [],
   "source": [
    "scaler = StandardScaler().fit(x_train)\n",
    "x_train = scaler.transform(x_train)\n",
    "x_test = scaler.transform(x_test)"
   ]
  },
  {
   "cell_type": "markdown",
   "id": "d47f3d0d",
   "metadata": {},
   "source": [
    "## Klassifikation von Weinen (rot vs. weiß) als binäres Klassifikationsproblem\n",
    "\n",
    "Ziel: Vorhersage d. binären Labels (0 = rot, 1 = weiß) anhand chemischer\n",
    "Eigenschaften\n",
    "\n",
    "Das neuronale Netz wird an diese Problemstruktur angepasst:\n",
    "- ein einzelnes Ausgabeneuron mit Sigmoid-Aktivierung (für binäre Klassifikation)\n",
    "- Eingabedimension entspricht der Anzahl der Input-Features (hier: 11)\n",
    "\n",
    "\n",
    "## Aufbau des neuronalen Netzes\n",
    "\n",
    "Wir definieren ein sequentielles Keras-Modell, , in dem Layer nacheinander\n",
    "hinzugefügt werden. Hyperparameter wie Anzahl der Hidden-Layer, Neuronenanzahl,\n",
    "Aktivierungsfunktionen etc. sind frei wählbar. Die Sturktur ist wie folgt:\n",
    "- Eingabeschicht: 12 Neuronen, ReLU, `input_dim=11`\n",
    "- Hidden Layer: 8 Neuronen, ReLU\n",
    "- Ausgabeschicht: 1 Neuron, Sigmoid (für binäre Klassifikation)"
   ]
  },
  {
   "cell_type": "code",
   "execution_count": 19,
   "id": "2b54d3dc",
   "metadata": {},
   "outputs": [
    {
     "name": "stderr",
     "output_type": "stream",
     "text": [
      "/home/iz/Dropbox/stuff/for-others/teaching/HFH/GKI/02-GKI-python/.venv/lib/python3.10/site-packages/keras/src/layers/core/dense.py:87: UserWarning: Do not pass an `input_shape`/`input_dim` argument to a layer. When using Sequential models, prefer using an `Input(shape)` object as the first layer in the model instead.\n",
      "  super().__init__(activity_regularizer=activity_regularizer, **kwargs)\n"
     ]
    }
   ],
   "source": [
    "model = K.models.Sequential()\n",
    "model.add(K.layers.Dense(units=12, activation='relu', input_dim=11))\n",
    "model.add(K.layers.Dense(units=8, activation='relu'))\n",
    "model.add(K.layers.Dense(units=1, activation='sigmoid'))"
   ]
  },
  {
   "cell_type": "markdown",
   "id": "2a857a06",
   "metadata": {},
   "source": [
    "## Weitere Hintergründe\n",
    "\n",
    "1. Erstellen eines sequenziellen Keras-Modells\n",
    "2. Erste Schicht (Input-Layer + erste Dense-Schicht)\n",
    "    + 12 Neuronen als Startwert (guter Richtwert, entspricht etwa der Feature-Anzahl)\n",
    "    + Aktivierungsfunktion: ReLU (Standard bei Hidden-Layern)\n",
    "    + input_dim: 11, da 11 Input-Features (chemische Eigenschaften)\n",
    "3. Zweite Schicht (Hidden-Layer)\n",
    "    + 8 Neuronen (leichte Reduktion gegenüber erster Schicht)\n",
    "    + erneut ReLU-Aktivierung\n",
    "4. Ausgabeschicht für binäre Klassifikation\n",
    "    + 1 Neuron (0 = rot, 1 = weiß)\n",
    "    + Aktivierungsfunktion: Sigmoid (liefert Werte zwischen 0 und 1 geeignet für\n",
    "     binäre Klassen)\n",
    "5. Für mehrklassige Klassifikation würde man stattdessen:\n",
    "    + mehrere Ausgabeneuronen (entsprechend der Klassenzahl)\n",
    "    + und eine 'softmax'-Aktivierung verwenden"
   ]
  },
  {
   "cell_type": "markdown",
   "id": "bc691078",
   "metadata": {},
   "source": [
    "## Kompilierung des Modells\n",
    "\n",
    "Festlegen von Optimierer, Verlustfunktion und Metriken\n",
    "\n",
    "- Optimierer: `Adam` (state-of-the-art für viele Probleme, adaptiv)\n",
    "- Verlustfunktion: `binary_crossentropy` (geeignet für binäre Klassifikation)\n",
    "- Metrik: `accuracy` (Anteil korrekt klassifizierter Beispiele pro Epoche)"
   ]
  },
  {
   "cell_type": "code",
   "execution_count": 20,
   "id": "d44a3306",
   "metadata": {},
   "outputs": [],
   "source": [
    "model.compile(\n",
    "    optimizer='adam',\n",
    "    loss='binary_crossentropy',\n",
    "    metrics=['accuracy']\n",
    ")"
   ]
  },
  {
   "cell_type": "markdown",
   "id": "c7c0cc32",
   "metadata": {},
   "source": [
    "## Modelltraining\n",
    "Wir trainieren das Modell 20 Epochen lang mit `validation_split=0.3`."
   ]
  },
  {
   "cell_type": "code",
   "execution_count": 21,
   "id": "6f059028",
   "metadata": {},
   "outputs": [
    {
     "name": "stdout",
     "output_type": "stream",
     "text": [
      "Epoch 1/20\n",
      "\u001b[1m100/100\u001b[0m \u001b[32m━━━━━━━━━━━━━━━━━━━━\u001b[0m\u001b[37m\u001b[0m \u001b[1m2s\u001b[0m 7ms/step - accuracy: 0.5110 - loss: 0.6868 - val_accuracy: 0.9333 - val_loss: 0.4467\n",
      "Epoch 2/20\n",
      "\u001b[1m100/100\u001b[0m \u001b[32m━━━━━━━━━━━━━━━━━━━━\u001b[0m\u001b[37m\u001b[0m \u001b[1m0s\u001b[0m 5ms/step - accuracy: 0.9646 - loss: 0.3528 - val_accuracy: 0.9883 - val_loss: 0.1512\n",
      "Epoch 3/20\n",
      "\u001b[1m100/100\u001b[0m \u001b[32m━━━━━━━━━━━━━━━━━━━━\u001b[0m\u001b[37m\u001b[0m \u001b[1m0s\u001b[0m 4ms/step - accuracy: 0.9843 - loss: 0.1219 - val_accuracy: 0.9890 - val_loss: 0.0665\n",
      "Epoch 4/20\n",
      "\u001b[1m100/100\u001b[0m \u001b[32m━━━━━━━━━━━━━━━━━━━━\u001b[0m\u001b[37m\u001b[0m \u001b[1m0s\u001b[0m 4ms/step - accuracy: 0.9891 - loss: 0.0575 - val_accuracy: 0.9912 - val_loss: 0.0418\n",
      "Epoch 5/20\n",
      "\u001b[1m100/100\u001b[0m \u001b[32m━━━━━━━━━━━━━━━━━━━━\u001b[0m\u001b[37m\u001b[0m \u001b[1m0s\u001b[0m 4ms/step - accuracy: 0.9925 - loss: 0.0399 - val_accuracy: 0.9919 - val_loss: 0.0332\n",
      "Epoch 6/20\n",
      "\u001b[1m100/100\u001b[0m \u001b[32m━━━━━━━━━━━━━━━━━━━━\u001b[0m\u001b[37m\u001b[0m \u001b[1m0s\u001b[0m 4ms/step - accuracy: 0.9907 - loss: 0.0365 - val_accuracy: 0.9919 - val_loss: 0.0285\n",
      "Epoch 7/20\n",
      "\u001b[1m100/100\u001b[0m \u001b[32m━━━━━━━━━━━━━━━━━━━━\u001b[0m\u001b[37m\u001b[0m \u001b[1m0s\u001b[0m 4ms/step - accuracy: 0.9927 - loss: 0.0320 - val_accuracy: 0.9941 - val_loss: 0.0252\n",
      "Epoch 8/20\n",
      "\u001b[1m100/100\u001b[0m \u001b[32m━━━━━━━━━━━━━━━━━━━━\u001b[0m\u001b[37m\u001b[0m \u001b[1m0s\u001b[0m 4ms/step - accuracy: 0.9950 - loss: 0.0221 - val_accuracy: 0.9941 - val_loss: 0.0246\n",
      "Epoch 9/20\n",
      "\u001b[1m100/100\u001b[0m \u001b[32m━━━━━━━━━━━━━━━━━━━━\u001b[0m\u001b[37m\u001b[0m \u001b[1m1s\u001b[0m 6ms/step - accuracy: 0.9936 - loss: 0.0238 - val_accuracy: 0.9941 - val_loss: 0.0235\n",
      "Epoch 10/20\n",
      "\u001b[1m100/100\u001b[0m \u001b[32m━━━━━━━━━━━━━━━━━━━━\u001b[0m\u001b[37m\u001b[0m \u001b[1m0s\u001b[0m 4ms/step - accuracy: 0.9963 - loss: 0.0189 - val_accuracy: 0.9941 - val_loss: 0.0220\n",
      "Epoch 11/20\n",
      "\u001b[1m100/100\u001b[0m \u001b[32m━━━━━━━━━━━━━━━━━━━━\u001b[0m\u001b[37m\u001b[0m \u001b[1m0s\u001b[0m 4ms/step - accuracy: 0.9940 - loss: 0.0223 - val_accuracy: 0.9941 - val_loss: 0.0208\n",
      "Epoch 12/20\n",
      "\u001b[1m100/100\u001b[0m \u001b[32m━━━━━━━━━━━━━━━━━━━━\u001b[0m\u001b[37m\u001b[0m \u001b[1m0s\u001b[0m 3ms/step - accuracy: 0.9945 - loss: 0.0216 - val_accuracy: 0.9949 - val_loss: 0.0199\n",
      "Epoch 13/20\n",
      "\u001b[1m100/100\u001b[0m \u001b[32m━━━━━━━━━━━━━━━━━━━━\u001b[0m\u001b[37m\u001b[0m \u001b[1m0s\u001b[0m 4ms/step - accuracy: 0.9947 - loss: 0.0229 - val_accuracy: 0.9949 - val_loss: 0.0194\n",
      "Epoch 14/20\n",
      "\u001b[1m100/100\u001b[0m \u001b[32m━━━━━━━━━━━━━━━━━━━━\u001b[0m\u001b[37m\u001b[0m \u001b[1m0s\u001b[0m 4ms/step - accuracy: 0.9963 - loss: 0.0196 - val_accuracy: 0.9956 - val_loss: 0.0187\n",
      "Epoch 15/20\n",
      "\u001b[1m100/100\u001b[0m \u001b[32m━━━━━━━━━━━━━━━━━━━━\u001b[0m\u001b[37m\u001b[0m \u001b[1m0s\u001b[0m 4ms/step - accuracy: 0.9957 - loss: 0.0205 - val_accuracy: 0.9949 - val_loss: 0.0194\n",
      "Epoch 16/20\n",
      "\u001b[1m100/100\u001b[0m \u001b[32m━━━━━━━━━━━━━━━━━━━━\u001b[0m\u001b[37m\u001b[0m \u001b[1m0s\u001b[0m 4ms/step - accuracy: 0.9955 - loss: 0.0166 - val_accuracy: 0.9956 - val_loss: 0.0190\n",
      "Epoch 17/20\n",
      "\u001b[1m100/100\u001b[0m \u001b[32m━━━━━━━━━━━━━━━━━━━━\u001b[0m\u001b[37m\u001b[0m \u001b[1m0s\u001b[0m 4ms/step - accuracy: 0.9952 - loss: 0.0268 - val_accuracy: 0.9956 - val_loss: 0.0191\n",
      "Epoch 18/20\n",
      "\u001b[1m100/100\u001b[0m \u001b[32m━━━━━━━━━━━━━━━━━━━━\u001b[0m\u001b[37m\u001b[0m \u001b[1m0s\u001b[0m 4ms/step - accuracy: 0.9949 - loss: 0.0222 - val_accuracy: 0.9963 - val_loss: 0.0187\n",
      "Epoch 19/20\n",
      "\u001b[1m100/100\u001b[0m \u001b[32m━━━━━━━━━━━━━━━━━━━━\u001b[0m\u001b[37m\u001b[0m \u001b[1m0s\u001b[0m 4ms/step - accuracy: 0.9970 - loss: 0.0158 - val_accuracy: 0.9956 - val_loss: 0.0192\n",
      "Epoch 20/20\n",
      "\u001b[1m100/100\u001b[0m \u001b[32m━━━━━━━━━━━━━━━━━━━━\u001b[0m\u001b[37m\u001b[0m \u001b[1m0s\u001b[0m 4ms/step - accuracy: 0.9955 - loss: 0.0199 - val_accuracy: 0.9971 - val_loss: 0.0180\n"
     ]
    }
   ],
   "source": [
    "hist = model.fit(x_train, y_train, epochs = 20, validation_split = 0.3)"
   ]
  },
  {
   "cell_type": "markdown",
   "id": "567124cb",
   "metadata": {},
   "source": [
    "- `x_train`, `y_train` sind die vorbereiteten Trainingsdaten\n",
    "- `epochs = 20`: 20 Trainingsdurchläufe (kann bei Bedarf erhöht werden)\n",
    "- `validation_split = 0.3`: 30% der Trainingsdaten werden zur Validierung abgezweigt\n",
    "- **Achtung:** dies betrifft nur `x_train`/`y_train`, nicht die vorab separat\n",
    "gehaltenen Testdaten!"
   ]
  },
  {
   "cell_type": "markdown",
   "id": "20bc1156",
   "metadata": {},
   "source": [
    "## Verlauf der Genauigkeit während des Trainings\n",
    "Die Trainings- und Validierungsgenauigkeit werden für jede Epoche geplottet."
   ]
  },
  {
   "cell_type": "code",
   "execution_count": null,
   "id": "f29edf77",
   "metadata": {},
   "outputs": [],
   "source": [
    "plt.plot(hist.history['accuracy'], label='Train Accuracy')\n",
    "plt.plot(hist.history['val_accuracy'], label='Validation Accuracy')\n",
    "plt.xlabel('Epoche')\n",
    "plt.ylabel('Genauigkeit')\n",
    "plt.legend()\n",
    "plt.tight_layout()\n",
    "plt.savefig('../figs/training_accuracy.png')\n",
    "plt.show()"
   ]
  },
  {
   "cell_type": "markdown",
   "id": "01886b16",
   "metadata": {},
   "source": [
    "## Evaluation auf Testdaten\n",
    "Nach dem Training evaluieren wir das Modell auf der echten Testmenge und geben die Loss- und Accuracy-Werte aus."
   ]
  },
  {
   "cell_type": "code",
   "execution_count": 23,
   "id": "902cea7c",
   "metadata": {},
   "outputs": [
    {
     "name": "stdout",
     "output_type": "stream",
     "text": [
      "\u001b[1m61/61\u001b[0m \u001b[32m━━━━━━━━━━━━━━━━━━━━\u001b[0m\u001b[37m\u001b[0m \u001b[1m0s\u001b[0m 3ms/step - accuracy: 0.9912 - loss: 0.0298\n",
      "Testverlust: 0.0354\n",
      "Testgenauigkeit: 0.9913\n"
     ]
    }
   ],
   "source": [
    "test_loss, test_acc = model.evaluate(x_test, y_test)\n",
    "print(f\"Testverlust: {test_loss:.4f}\")\n",
    "print(f\"Testgenauigkeit: {test_acc:.4f}\")"
   ]
  },
  {
   "cell_type": "markdown",
   "id": "4a70ce75",
   "metadata": {},
   "source": [
    "**Hinweis:**\n",
    "- Die Validierung während des Trainings basiert auf `validation_split`\n",
    "- Die finale Testgenauigkeit stammt aus einer separaten, vorher unberührten Testmenge\n",
    "- Dadurch erhalten wir eine realistische Einschätzung der Generalisierungsfähigkeit"
   ]
  }
 ],
 "metadata": {
  "kernelspec": {
   "display_name": "gki-venv",
   "language": "python",
   "name": "gki-venv"
  },
  "language_info": {
   "codemirror_mode": {
    "name": "ipython",
    "version": 3
   },
   "file_extension": ".py",
   "mimetype": "text/x-python",
   "name": "python",
   "nbconvert_exporter": "python",
   "pygments_lexer": "ipython3",
   "version": "3.10.12"
  }
 },
 "nbformat": 4,
 "nbformat_minor": 5
}
