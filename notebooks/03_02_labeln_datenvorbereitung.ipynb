{
 "cells": [
  {
   "cell_type": "markdown",
   "id": "0c12e9b4",
   "metadata": {},
   "source": [
    "# Klassifikation von Rot- und Weißwein mit Keras\n",
    "In diesem Notebook führen wir die vollständige Datenaufbereitung, Modellierung, Visualisierung und Evaluierung eines neuronalen Netzes zur Unterscheidung von Rot- und Weißwein durch."
   ]
  },
  {
   "cell_type": "code",
   "execution_count": null,
   "id": "96f74eda",
   "metadata": {},
   "outputs": [],
   "source": [
    "import pandas as pd\n",
    "import numpy as np\n",
    "import keras as K\n",
    "import matplotlib.pyplot as plt\n",
    "from sklearn.model_selection import train_test_split\n",
    "from sklearn.preprocessing import StandardScaler"
   ]
  },
  {
   "cell_type": "markdown",
   "id": "679f2e0c",
   "metadata": {},
   "source": [
    "## Einlesen der Weindaten\n",
    "Die CSV-Dateien befinden sich im Unterordner `data/processed`. Sie enthalten standardisierte chemische Merkmale für Rot- und Weißweine."
   ]
  },
  {
   "cell_type": "code",
   "execution_count": null,
   "id": "6ccb61a3",
   "metadata": {},
   "outputs": [],
   "source": [
    "white = pd.read_csv('../data/processed/winequality-white.csv', sep=';')\n",
    "red = pd.read_csv('../data/processed/winequality-red.csv', sep=';')"
   ]
  },
  {
   "cell_type": "markdown",
   "id": "f9403c8c",
   "metadata": {},
   "source": [
    "## Labeln und Zusammenführen der Datensätze\n",
    "Rotwein erhält das Label `1`, Weißwein das Label `0`. Danach werden die Daten zusammengeführt."
   ]
  },
  {
   "cell_type": "code",
   "execution_count": null,
   "id": "66f5b759",
   "metadata": {},
   "outputs": [],
   "source": [
    "red['label'] = 1\n",
    "white['label'] = 0\n",
    "wines = pd.concat([red, white], ignore_index=True)"
   ]
  },
  {
   "cell_type": "markdown",
   "id": "572e4202",
   "metadata": {},
   "source": [
    "## Feature-Matrix und Zielvariable erzeugen\n",
    "Die ersten 11 Spalten (chemische Eigenschaften) dienen als Input-Variablen (Features). Die Zielvariable `y` ist das binäre Label."
   ]
  },
  {
   "cell_type": "code",
   "execution_count": null,
   "id": "7179a4e9",
   "metadata": {},
   "outputs": [],
   "source": [
    "x = wines.iloc[:, 0:11]\n",
    "y = np.ravel(wines['label'])"
   ]
  },
  {
   "cell_type": "markdown",
   "id": "2f5a7912",
   "metadata": {},
   "source": [
    "## Aufteilung in Trainings- und Testdaten\n",
    "Der Datensatz wird im Verhältnis 70:30 in Trainings- und Testdaten aufgeteilt."
   ]
  },
  {
   "cell_type": "code",
   "execution_count": null,
   "id": "2f5ce995",
   "metadata": {},
   "outputs": [],
   "source": [
    "x_train, x_test, y_train, y_test = train_test_split(\n",
    "    x, y, test_size=0.33, random_state=42)"
   ]
  },
  {
   "cell_type": "markdown",
   "id": "38610c16",
   "metadata": {},
   "source": [
    "## Skalierung der Merkmale\n",
    "Die Daten werden mit dem `StandardScaler` auf Mittelwert 0 und Standardabweichung 1 standardisiert. Der Fit erfolgt **nur auf dem Trainingsset**."
   ]
  },
  {
   "cell_type": "code",
   "execution_count": null,
   "id": "e4236603",
   "metadata": {},
   "outputs": [],
   "source": [
    "scaler = StandardScaler().fit(x_train)\n",
    "x_train = scaler.transform(x_train)\n",
    "x_test = scaler.transform(x_test)"
   ]
  },
  {
   "cell_type": "markdown",
   "id": "d47f3d0d",
   "metadata": {},
   "source": [
    "## Aufbau des neuronalen Netzes\n",
    "Wir definieren ein sequentielles Keras-Modell mit folgender Struktur:\n",
    "- Eingabeschicht: 12 Neuronen, ReLU, `input_dim=11`\n",
    "- Hidden Layer: 8 Neuronen, ReLU\n",
    "- Ausgabeschicht: 1 Neuron, Sigmoid (für binäre Klassifikation)"
   ]
  },
  {
   "cell_type": "code",
   "execution_count": null,
   "id": "2b54d3dc",
   "metadata": {},
   "outputs": [],
   "source": [
    "model = K.models.Sequential()\n",
    "model.add(K.layers.Dense(units=12, activation='relu', input_dim=11))\n",
    "model.add(K.layers.Dense(units=8, activation='relu'))\n",
    "model.add(K.layers.Dense(units=1, activation='sigmoid'))"
   ]
  },
  {
   "cell_type": "markdown",
   "id": "bc691078",
   "metadata": {},
   "source": [
    "## Kompilierung des Modells\n",
    "- Optimierer: Adam\n",
    "- Verlustfunktion: `binary_crossentropy`\n",
    "- Metrik: `accuracy`"
   ]
  },
  {
   "cell_type": "code",
   "execution_count": null,
   "id": "d44a3306",
   "metadata": {},
   "outputs": [],
   "source": [
    "model.compile(\n",
    "    optimizer='adam',\n",
    "    loss='binary_crossentropy',\n",
    "    metrics=['accuracy']\n",
    ")"
   ]
  },
  {
   "cell_type": "markdown",
   "id": "c7c0cc32",
   "metadata": {},
   "source": [
    "## Modelltraining\n",
    "Wir trainieren das Modell 20 Epochen lang mit `validation_split=0.3`."
   ]
  },
  {
   "cell_type": "code",
   "execution_count": null,
   "id": "6f059028",
   "metadata": {},
   "outputs": [],
   "source": [
    "hist = model.fit(x_train, y_train, epochs=20, validation_split=0.3)"
   ]
  },
  {
   "cell_type": "markdown",
   "id": "20bc1156",
   "metadata": {},
   "source": [
    "## Verlauf der Genauigkeit während des Trainings\n",
    "Die Trainings- und Validierungsgenauigkeit werden für jede Epoche geplottet."
   ]
  },
  {
   "cell_type": "code",
   "execution_count": null,
   "id": "f29edf77",
   "metadata": {},
   "outputs": [],
   "source": [
    "plt.plot(hist.history['accuracy'], label='Train Accuracy')\n",
    "plt.plot(hist.history['val_accuracy'], label='Validation Accuracy')\n",
    "plt.xlabel('Epoche')\n",
    "plt.ylabel('Genauigkeit')\n",
    "plt.legend()\n",
    "plt.tight_layout()\n",
    "plt.savefig('../figs/training_accuracy.png')\n",
    "plt.show()"
   ]
  },
  {
   "cell_type": "markdown",
   "id": "01886b16",
   "metadata": {},
   "source": [
    "## Evaluation auf Testdaten\n",
    "Nach dem Training evaluieren wir das Modell auf der echten Testmenge und geben die Loss- und Accuracy-Werte aus."
   ]
  },
  {
   "cell_type": "code",
   "execution_count": null,
   "id": "902cea7c",
   "metadata": {},
   "outputs": [],
   "source": [
    "test_loss, test_acc = model.evaluate(x_test, y_test)\n",
    "print(f\"Testverlust: {test_loss:.4f}\")\n",
    "print(f\"Testgenauigkeit: {test_acc:.4f}\")"
   ]
  },
  {
   "cell_type": "markdown",
   "id": "4a70ce75",
   "metadata": {},
   "source": [
    "**Hinweis:**\n",
    "- Die Validierung während des Trainings basiert auf `validation_split`\n",
    "- Die finale Testgenauigkeit stammt aus einer separaten, vorher unberührten Testmenge\n",
    "- Dadurch erhalten wir eine realistische Einschätzung der Generalisierungsfähigkeit"
   ]
  }
 ],
 "metadata": {
  "kernelspec": {
   "display_name": "gki-venv",
   "language": "python",
   "name": "gki-venv"
  },
  "language_info": {
   "name": "python",
   "version": "3.10.12"
  }
 },
 "nbformat": 4,
 "nbformat_minor": 5
}
