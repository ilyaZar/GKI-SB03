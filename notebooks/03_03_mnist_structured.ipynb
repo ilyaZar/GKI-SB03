{
 "cells": [
  {
   "cell_type": "markdown",
   "id": "52d6d878",
   "metadata": {},
   "source": [
    "# Klassifikation von MNIST und Fashion-MNIST\n",
    "In diesem Notebook vergleichen wir verschiedene neuronale Netzarchitekturen zur Klassifikation von Bildern aus dem MNIST- und Fashion-MNIST-Datensatz."
   ]
  },
  {
   "cell_type": "markdown",
   "id": "e753a209",
   "metadata": {},
   "source": [
    "## Bibliotheken importieren"
   ]
  },
  {
   "cell_type": "code",
   "execution_count": null,
   "id": "7e995ec2",
   "metadata": {},
   "outputs": [],
   "source": [
    "import keras as K\n",
    "import matplotlib.pyplot as plt\n",
    "from keras.models import Sequential\n",
    "from keras.layers import Conv2D, MaxPooling2D, Flatten, Dense, Dropout"
   ]
  },
  {
   "cell_type": "markdown",
   "id": "0d443844",
   "metadata": {},
   "source": [
    "## MNIST-Datensatz laden und vorbereiten"
   ]
  },
  {
   "cell_type": "code",
   "execution_count": null,
   "id": "cf3c64a8",
   "metadata": {},
   "outputs": [],
   "source": [
    "mnist = K.datasets.mnist\n",
    "(x_train, y_train), (x_test, y_test) = mnist.load_data()\n",
    "x_train = x_train / 255.0\n",
    "x_test = x_test / 255.0"
   ]
  },
  {
   "cell_type": "markdown",
   "id": "ddb27bf6",
   "metadata": {},
   "source": [
    "## One-Hot-Encoding der Zielvariablen"
   ]
  },
  {
   "cell_type": "code",
   "execution_count": null,
   "id": "2c7ab846",
   "metadata": {},
   "outputs": [],
   "source": [
    "y_train = K.utils.to_categorical(y_train)\n",
    "y_test = K.utils.to_categorical(y_test)"
   ]
  },
  {
   "cell_type": "markdown",
   "id": "527c1988",
   "metadata": {},
   "source": [
    "## Feedforward-Netzwerk erstellen\n",
    "Ein einfaches Dense-Netz mit zwei Hidden-Layern je 128 Neuronen."
   ]
  },
  {
   "cell_type": "code",
   "execution_count": null,
   "id": "fb49fbd2",
   "metadata": {},
   "outputs": [],
   "source": [
    "model = K.models.Sequential()\n",
    "model.add(K.layers.Flatten())\n",
    "model.add(K.layers.Dense(128, activation='relu'))\n",
    "model.add(K.layers.Dense(128, activation='relu'))\n",
    "model.add(K.layers.Dense(10, activation='softmax'))"
   ]
  },
  {
   "cell_type": "markdown",
   "id": "9bca354e",
   "metadata": {},
   "source": [
    "## Kompilieren des Modells"
   ]
  },
  {
   "cell_type": "code",
   "execution_count": null,
   "id": "32fd29e5",
   "metadata": {},
   "outputs": [],
   "source": [
    "model.compile(\n",
    "    optimizer='adam',\n",
    "    loss='categorical_crossentropy',\n",
    "    metrics=['accuracy']\n",
    ")"
   ]
  },
  {
   "cell_type": "markdown",
   "id": "4c56f7e4",
   "metadata": {},
   "source": [
    "## Training des Feedforward-Netzes"
   ]
  },
  {
   "cell_type": "code",
   "execution_count": null,
   "id": "8e44ef6d",
   "metadata": {},
   "outputs": [],
   "source": [
    "history = model.fit(x_train, y_train, epochs=30, batch_size=128, validation_split=0.3)"
   ]
  },
  {
   "cell_type": "markdown",
   "id": "dc85bab3",
   "metadata": {},
   "source": [
    "## Trainingsverlauf (Feedforward-Netz)"
   ]
  },
  {
   "cell_type": "code",
   "execution_count": null,
   "id": "8398b348",
   "metadata": {},
   "outputs": [],
   "source": [
    "fig, ax = plt.subplots()\n",
    "ax.set_title('Accuracy over epochs')\n",
    "ax.set_xlabel('epochs')\n",
    "ax.set_ylabel('accuracy')\n",
    "ax.plot(history.history['accuracy'], label='train')\n",
    "ax.plot(history.history['val_accuracy'], label='validation')\n",
    "ax.legend(loc='upper left')\n",
    "plt.show()\n",
    "plt.savefig('../figs/mnist_accuracy.png')"
   ]
  },
  {
   "cell_type": "markdown",
   "id": "fc4d7be8",
   "metadata": {},
   "source": [
    "## Aufbau eines Convolutional Neural Networks (CNN) mit Fashion-MNIST\n",
    "Ziel: Verbesserung der Genauigkeit gegenüber einem einfachen Feedforward-Netz."
   ]
  },
  {
   "cell_type": "code",
   "execution_count": null,
   "id": "12ffc139",
   "metadata": {},
   "outputs": [],
   "source": [
    "fashion = K.datasets.fashion_mnist\n",
    "(x_train_mf, y_train_mf), (x_test_mf, y_test_mf) = fashion.load_data()\n",
    "x_train_mf = x_train_mf / 255.0\n",
    "x_test_mf = x_test_mf / 255.0\n",
    "y_train_mf = K.utils.to_categorical(y_train_mf)\n",
    "y_test_mf = K.utils.to_categorical(y_test_mf)"
   ]
  },
  {
   "cell_type": "markdown",
   "id": "4cef36e1",
   "metadata": {},
   "source": [
    "## CNN-Architektur definieren"
   ]
  },
  {
   "cell_type": "code",
   "execution_count": null,
   "id": "0d44c1fd",
   "metadata": {},
   "outputs": [],
   "source": [
    "model2 = Sequential()\n",
    "model2.add(Conv2D(32, (3, 3), activation='relu', input_shape=(28, 28, 1)))\n",
    "model2.add(MaxPooling2D((2, 2)))\n",
    "model2.add(Flatten())\n",
    "model2.add(Dense(100, activation='relu'))\n",
    "model2.add(Dense(10, activation='softmax'))"
   ]
  },
  {
   "cell_type": "markdown",
   "id": "8c6c56b4",
   "metadata": {},
   "source": [
    "## Kompilierung des CNN-Modells"
   ]
  },
  {
   "cell_type": "code",
   "execution_count": null,
   "id": "59ed58ab",
   "metadata": {},
   "outputs": [],
   "source": [
    "model2.compile(optimizer='adam', loss='categorical_crossentropy', metrics=['accuracy'])"
   ]
  },
  {
   "cell_type": "code",
   "execution_count": null,
   "id": "062a6422",
   "metadata": {},
   "outputs": [],
   "source": [
    "x_train_mf = x_train_mf.reshape(-1, 28, 28, 1)\n",
    "x_test_mf = x_test_mf.reshape(-1, 28, 28, 1)"
   ]
  },
  {
   "cell_type": "markdown",
   "id": "bb01aeb7",
   "metadata": {},
   "source": [
    "## Training des CNNs auf Fashion-MNIST"
   ]
  },
  {
   "cell_type": "code",
   "execution_count": null,
   "id": "7d944aac",
   "metadata": {},
   "outputs": [],
   "source": [
    "history = model2.fit(\n",
    "    x_train_mf, y_train_mf,\n",
    "    epochs=30,\n",
    "    batch_size=128,\n",
    "    validation_data=(x_test_mf, y_test_mf)\n",
    ")"
   ]
  },
  {
   "cell_type": "markdown",
   "id": "fac46df7",
   "metadata": {},
   "source": [
    "## Visualisierung des CNN-Trainingsverlaufs"
   ]
  },
  {
   "cell_type": "code",
   "execution_count": null,
   "id": "f93ca372",
   "metadata": {},
   "outputs": [],
   "source": [
    "fig, ax = plt.subplots()\n",
    "ax.set_title('Accuracy over epochs')\n",
    "ax.set_xlabel('epochs')\n",
    "ax.set_ylabel('accuracy')\n",
    "ax.plot(history.history['accuracy'], label='train')\n",
    "ax.plot(history.history['val_accuracy'], label='validation')\n",
    "ax.legend(loc='upper left')\n",
    "plt.show()\n",
    "plt.savefig('../figs/mnist_accuracy_convolutional.png')"
   ]
  },
  {
   "cell_type": "markdown",
   "id": "21c065fa",
   "metadata": {},
   "source": [
    "## CNN mit Dropout zur Vermeidung von Overfitting\n",
    "Ein Dropout-Layer deaktiviert während des Trainings zufällig 10 % der Neuronen."
   ]
  },
  {
   "cell_type": "code",
   "execution_count": null,
   "id": "982d1623",
   "metadata": {},
   "outputs": [],
   "source": [
    "model = Sequential()\n",
    "model.add(Conv2D(32, (3, 3), activation='relu', input_shape=(28, 28, 1)))\n",
    "model.add(MaxPooling2D((2, 2)))\n",
    "model.add(Dropout(0.1))\n",
    "model.add(Flatten())\n",
    "model.add(Dense(100, activation='relu'))\n",
    "model.add(Dense(10, activation='softmax'))"
   ]
  }
 ],
 "metadata": {
  "kernelspec": {
   "display_name": "Python 3",
   "name": "python3"
  }
 },
 "nbformat": 4,
 "nbformat_minor": 5
}
