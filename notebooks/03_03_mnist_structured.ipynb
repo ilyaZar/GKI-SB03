{
 "cells": [
  {
   "cell_type": "markdown",
   "id": "52d6d878",
   "metadata": {},
   "source": [
    "# Klassifikation von MNIST und Fashion-MNIST\n",
    "In diesem Notebook vergleichen wir verschiedene neuronale Netzarchitekturen zur Klassifikation von Bildern aus dem MNIST- und Fashion-MNIST-Datensatz."
   ]
  },
  {
   "cell_type": "markdown",
   "id": "e753a209",
   "metadata": {},
   "source": [
    "## Bibliotheken importieren"
   ]
  },
  {
   "cell_type": "code",
   "execution_count": 1,
   "id": "7e995ec2",
   "metadata": {},
   "outputs": [
    {
     "name": "stderr",
     "output_type": "stream",
     "text": [
      "2025-05-10 15:04:47.168140: I external/local_xla/xla/tsl/cuda/cudart_stub.cc:32] Could not find cuda drivers on your machine, GPU will not be used.\n",
      "2025-05-10 15:04:47.173713: I external/local_xla/xla/tsl/cuda/cudart_stub.cc:32] Could not find cuda drivers on your machine, GPU will not be used.\n",
      "2025-05-10 15:04:47.188676: E external/local_xla/xla/stream_executor/cuda/cuda_fft.cc:467] Unable to register cuFFT factory: Attempting to register factory for plugin cuFFT when one has already been registered\n",
      "WARNING: All log messages before absl::InitializeLog() is called are written to STDERR\n",
      "E0000 00:00:1746882287.212635  168613 cuda_dnn.cc:8579] Unable to register cuDNN factory: Attempting to register factory for plugin cuDNN when one has already been registered\n",
      "E0000 00:00:1746882287.219399  168613 cuda_blas.cc:1407] Unable to register cuBLAS factory: Attempting to register factory for plugin cuBLAS when one has already been registered\n",
      "W0000 00:00:1746882287.240838  168613 computation_placer.cc:177] computation placer already registered. Please check linkage and avoid linking the same target more than once.\n",
      "W0000 00:00:1746882287.240888  168613 computation_placer.cc:177] computation placer already registered. Please check linkage and avoid linking the same target more than once.\n",
      "W0000 00:00:1746882287.240891  168613 computation_placer.cc:177] computation placer already registered. Please check linkage and avoid linking the same target more than once.\n",
      "W0000 00:00:1746882287.240893  168613 computation_placer.cc:177] computation placer already registered. Please check linkage and avoid linking the same target more than once.\n"
     ]
    }
   ],
   "source": [
    "import keras as K\n",
    "import matplotlib.pyplot as plt\n",
    "from keras.models import Sequential\n",
    "from keras.layers import Conv2D, MaxPooling2D, Flatten, Dense, Dropout"
   ]
  },
  {
   "cell_type": "markdown",
   "id": "0d443844",
   "metadata": {},
   "source": [
    "## MNIST-Datensatz laden und vorbereiten\n",
    "\n",
    "- Laden des Fashion-MNIST-Datensatzes aus Keras (10 Klassen, z. B. Schuhe,\n",
    "Pullover, Taschen)\n",
    "- Normalisierung der Bilddaten auf Werte im Bereich [0, 1]\n",
    "- Ursprünglich liegen die Grauwerte im Bereich [0, 255]"
   ]
  },
  {
   "cell_type": "code",
   "execution_count": 2,
   "id": "cf3c64a8",
   "metadata": {},
   "outputs": [],
   "source": [
    "mnist = K.datasets.mnist\n",
    "(x_train, y_train), (x_test, y_test) = mnist.load_data()\n",
    "x_train = x_train / 255.0\n",
    "x_test = x_test / 255.0"
   ]
  },
  {
   "cell_type": "markdown",
   "id": "ddb27bf6",
   "metadata": {},
   "source": [
    "## One-Hot-Encoding der Zielvariablen\n",
    "\n",
    "- One-Hot-Encoding der Zielvariable (10 Klassen -> Vektor mit 10 Einträgen)\n",
    "- Beispiel: Klasse **3** `-> [0, 0, 0, 1, 0, 0, 0, 0, 0, 0]`"
   ]
  },
  {
   "cell_type": "code",
   "execution_count": 3,
   "id": "2c7ab846",
   "metadata": {},
   "outputs": [],
   "source": [
    "y_train = K.utils.to_categorical(y_train)\n",
    "y_test = K.utils.to_categorical(y_test)"
   ]
  },
  {
   "cell_type": "markdown",
   "id": "527c1988",
   "metadata": {},
   "source": [
    "## Feedforward-Netzwerk erstellen\n",
    "Ein einfaches Dense-Netz mit zwei Hidden-Layern je 128 Neuronen:\n",
    "\n",
    "- Wieder: sequentieller Aufbau eines FFNN `K.models.Sequential()`\n",
    "- Flatten-Ebene wandelt 2D-Bilder (`28x28`) in 1D-Vektoren (784)\n",
    "- zwei versteckte Dense-Schichten mit jeweils 128 Neuronen, ReLU-Aktivierung\n",
    "- Ausgabeschicht mit 10 Neuronen (für 10 Klassen), Softmax-Aktivierung für\n",
    "Wahrscheinlichkeitsverteilung"
   ]
  },
  {
   "cell_type": "code",
   "execution_count": 4,
   "id": "fb49fbd2",
   "metadata": {},
   "outputs": [],
   "source": [
    "model = K.models.Sequential()\n",
    "model.add(K.layers.Flatten())\n",
    "model.add(K.layers.Dense(128, activation='relu'))\n",
    "model.add(K.layers.Dense(128, activation='relu'))\n",
    "model.add(K.layers.Dense(10, activation='softmax'))"
   ]
  },
  {
   "cell_type": "markdown",
   "id": "9bca354e",
   "metadata": {},
   "source": [
    "## Kompilieren des Modells\n",
    "\n",
    "- Adam-Optimierer\n",
    "- Categorical Crossentropy (für mehrklassige Klassifikation mit One-Hot-Labels)\n",
    "- Accuracy als Metrik"
   ]
  },
  {
   "cell_type": "code",
   "execution_count": 5,
   "id": "32fd29e5",
   "metadata": {},
   "outputs": [
    {
     "name": "stderr",
     "output_type": "stream",
     "text": [
      "2025-05-10 15:04:53.679024: E external/local_xla/xla/stream_executor/cuda/cuda_platform.cc:51] failed call to cuInit: INTERNAL: CUDA error: Failed call to cuInit: UNKNOWN ERROR (303)\n"
     ]
    }
   ],
   "source": [
    "model.compile(\n",
    "    optimizer='adam',\n",
    "    loss='categorical_crossentropy',\n",
    "    metrics=['accuracy']\n",
    ")"
   ]
  },
  {
   "cell_type": "markdown",
   "id": "4c56f7e4",
   "metadata": {},
   "source": [
    "## Training des Feedforward-Netzes\n",
    "\n",
    "- 30 Epochen\n",
    "- Batch-Größe 128\n",
    "- 30 % der Trainingsdaten werden für Validierung verwendet"
   ]
  },
  {
   "cell_type": "code",
   "execution_count": 6,
   "id": "8e44ef6d",
   "metadata": {},
   "outputs": [
    {
     "name": "stdout",
     "output_type": "stream",
     "text": [
      "Epoch 1/30\n",
      "\u001b[1m329/329\u001b[0m \u001b[32m━━━━━━━━━━━━━━━━━━━━\u001b[0m\u001b[37m\u001b[0m \u001b[1m4s\u001b[0m 9ms/step - accuracy: 0.8009 - loss: 0.6960 - val_accuracy: 0.9427 - val_loss: 0.1957\n",
      "Epoch 2/30\n",
      "\u001b[1m329/329\u001b[0m \u001b[32m━━━━━━━━━━━━━━━━━━━━\u001b[0m\u001b[37m\u001b[0m \u001b[1m2s\u001b[0m 7ms/step - accuracy: 0.9497 - loss: 0.1690 - val_accuracy: 0.9558 - val_loss: 0.1499\n",
      "Epoch 3/30\n",
      "\u001b[1m329/329\u001b[0m \u001b[32m━━━━━━━━━━━━━━━━━━━━\u001b[0m\u001b[37m\u001b[0m \u001b[1m3s\u001b[0m 9ms/step - accuracy: 0.9677 - loss: 0.1095 - val_accuracy: 0.9649 - val_loss: 0.1203\n",
      "Epoch 4/30\n",
      "\u001b[1m329/329\u001b[0m \u001b[32m━━━━━━━━━━━━━━━━━━━━\u001b[0m\u001b[37m\u001b[0m \u001b[1m3s\u001b[0m 9ms/step - accuracy: 0.9774 - loss: 0.0781 - val_accuracy: 0.9666 - val_loss: 0.1122\n",
      "Epoch 5/30\n",
      "\u001b[1m329/329\u001b[0m \u001b[32m━━━━━━━━━━━━━━━━━━━━\u001b[0m\u001b[37m\u001b[0m \u001b[1m4s\u001b[0m 11ms/step - accuracy: 0.9827 - loss: 0.0603 - val_accuracy: 0.9681 - val_loss: 0.1064\n",
      "Epoch 6/30\n",
      "\u001b[1m329/329\u001b[0m \u001b[32m━━━━━━━━━━━━━━━━━━━━\u001b[0m\u001b[37m\u001b[0m \u001b[1m4s\u001b[0m 11ms/step - accuracy: 0.9865 - loss: 0.0463 - val_accuracy: 0.9682 - val_loss: 0.1083\n",
      "Epoch 7/30\n",
      "\u001b[1m329/329\u001b[0m \u001b[32m━━━━━━━━━━━━━━━━━━━━\u001b[0m\u001b[37m\u001b[0m \u001b[1m3s\u001b[0m 10ms/step - accuracy: 0.9901 - loss: 0.0352 - val_accuracy: 0.9678 - val_loss: 0.1127\n",
      "Epoch 8/30\n",
      "\u001b[1m329/329\u001b[0m \u001b[32m━━━━━━━━━━━━━━━━━━━━\u001b[0m\u001b[37m\u001b[0m \u001b[1m3s\u001b[0m 9ms/step - accuracy: 0.9895 - loss: 0.0356 - val_accuracy: 0.9720 - val_loss: 0.1016\n",
      "Epoch 9/30\n",
      "\u001b[1m329/329\u001b[0m \u001b[32m━━━━━━━━━━━━━━━━━━━━\u001b[0m\u001b[37m\u001b[0m \u001b[1m5s\u001b[0m 9ms/step - accuracy: 0.9941 - loss: 0.0218 - val_accuracy: 0.9698 - val_loss: 0.1099\n",
      "Epoch 10/30\n",
      "\u001b[1m329/329\u001b[0m \u001b[32m━━━━━━━━━━━━━━━━━━━━\u001b[0m\u001b[37m\u001b[0m \u001b[1m3s\u001b[0m 9ms/step - accuracy: 0.9958 - loss: 0.0169 - val_accuracy: 0.9731 - val_loss: 0.1045\n",
      "Epoch 11/30\n",
      "\u001b[1m329/329\u001b[0m \u001b[32m━━━━━━━━━━━━━━━━━━━━\u001b[0m\u001b[37m\u001b[0m \u001b[1m3s\u001b[0m 9ms/step - accuracy: 0.9951 - loss: 0.0164 - val_accuracy: 0.9723 - val_loss: 0.1095\n",
      "Epoch 12/30\n",
      "\u001b[1m329/329\u001b[0m \u001b[32m━━━━━━━━━━━━━━━━━━━━\u001b[0m\u001b[37m\u001b[0m \u001b[1m3s\u001b[0m 8ms/step - accuracy: 0.9968 - loss: 0.0119 - val_accuracy: 0.9702 - val_loss: 0.1156\n",
      "Epoch 13/30\n",
      "\u001b[1m329/329\u001b[0m \u001b[32m━━━━━━━━━━━━━━━━━━━━\u001b[0m\u001b[37m\u001b[0m \u001b[1m3s\u001b[0m 9ms/step - accuracy: 0.9963 - loss: 0.0113 - val_accuracy: 0.9679 - val_loss: 0.1317\n",
      "Epoch 14/30\n",
      "\u001b[1m329/329\u001b[0m \u001b[32m━━━━━━━━━━━━━━━━━━━━\u001b[0m\u001b[37m\u001b[0m \u001b[1m3s\u001b[0m 9ms/step - accuracy: 0.9966 - loss: 0.0114 - val_accuracy: 0.9683 - val_loss: 0.1299\n",
      "Epoch 15/30\n",
      "\u001b[1m329/329\u001b[0m \u001b[32m━━━━━━━━━━━━━━━━━━━━\u001b[0m\u001b[37m\u001b[0m \u001b[1m3s\u001b[0m 8ms/step - accuracy: 0.9966 - loss: 0.0120 - val_accuracy: 0.9697 - val_loss: 0.1316\n",
      "Epoch 16/30\n",
      "\u001b[1m329/329\u001b[0m \u001b[32m━━━━━━━━━━━━━━━━━━━━\u001b[0m\u001b[37m\u001b[0m \u001b[1m4s\u001b[0m 11ms/step - accuracy: 0.9972 - loss: 0.0092 - val_accuracy: 0.9734 - val_loss: 0.1216\n",
      "Epoch 17/30\n",
      "\u001b[1m329/329\u001b[0m \u001b[32m━━━━━━━━━━━━━━━━━━━━\u001b[0m\u001b[37m\u001b[0m \u001b[1m3s\u001b[0m 9ms/step - accuracy: 0.9975 - loss: 0.0080 - val_accuracy: 0.9711 - val_loss: 0.1310\n",
      "Epoch 18/30\n",
      "\u001b[1m329/329\u001b[0m \u001b[32m━━━━━━━━━━━━━━━━━━━━\u001b[0m\u001b[37m\u001b[0m \u001b[1m3s\u001b[0m 9ms/step - accuracy: 0.9980 - loss: 0.0064 - val_accuracy: 0.9724 - val_loss: 0.1297\n",
      "Epoch 19/30\n",
      "\u001b[1m329/329\u001b[0m \u001b[32m━━━━━━━━━━━━━━━━━━━━\u001b[0m\u001b[37m\u001b[0m \u001b[1m3s\u001b[0m 8ms/step - accuracy: 0.9978 - loss: 0.0070 - val_accuracy: 0.9721 - val_loss: 0.1321\n",
      "Epoch 20/30\n",
      "\u001b[1m329/329\u001b[0m \u001b[32m━━━━━━━━━━━━━━━━━━━━\u001b[0m\u001b[37m\u001b[0m \u001b[1m3s\u001b[0m 10ms/step - accuracy: 0.9965 - loss: 0.0112 - val_accuracy: 0.9737 - val_loss: 0.1260\n",
      "Epoch 21/30\n",
      "\u001b[1m329/329\u001b[0m \u001b[32m━━━━━━━━━━━━━━━━━━━━\u001b[0m\u001b[37m\u001b[0m \u001b[1m3s\u001b[0m 10ms/step - accuracy: 0.9992 - loss: 0.0033 - val_accuracy: 0.9741 - val_loss: 0.1335\n",
      "Epoch 22/30\n",
      "\u001b[1m329/329\u001b[0m \u001b[32m━━━━━━━━━━━━━━━━━━━━\u001b[0m\u001b[37m\u001b[0m \u001b[1m4s\u001b[0m 11ms/step - accuracy: 0.9986 - loss: 0.0049 - val_accuracy: 0.9735 - val_loss: 0.1363\n",
      "Epoch 23/30\n",
      "\u001b[1m329/329\u001b[0m \u001b[32m━━━━━━━━━━━━━━━━━━━━\u001b[0m\u001b[37m\u001b[0m \u001b[1m3s\u001b[0m 10ms/step - accuracy: 0.9988 - loss: 0.0050 - val_accuracy: 0.9739 - val_loss: 0.1408\n",
      "Epoch 24/30\n",
      "\u001b[1m329/329\u001b[0m \u001b[32m━━━━━━━━━━━━━━━━━━━━\u001b[0m\u001b[37m\u001b[0m \u001b[1m2s\u001b[0m 7ms/step - accuracy: 0.9971 - loss: 0.0086 - val_accuracy: 0.9714 - val_loss: 0.1593\n",
      "Epoch 25/30\n",
      "\u001b[1m329/329\u001b[0m \u001b[32m━━━━━━━━━━━━━━━━━━━━\u001b[0m\u001b[37m\u001b[0m \u001b[1m3s\u001b[0m 8ms/step - accuracy: 0.9967 - loss: 0.0091 - val_accuracy: 0.9721 - val_loss: 0.1441\n",
      "Epoch 26/30\n",
      "\u001b[1m329/329\u001b[0m \u001b[32m━━━━━━━━━━━━━━━━━━━━\u001b[0m\u001b[37m\u001b[0m \u001b[1m2s\u001b[0m 7ms/step - accuracy: 0.9993 - loss: 0.0022 - val_accuracy: 0.9762 - val_loss: 0.1371\n",
      "Epoch 27/30\n",
      "\u001b[1m329/329\u001b[0m \u001b[32m━━━━━━━━━━━━━━━━━━━━\u001b[0m\u001b[37m\u001b[0m \u001b[1m3s\u001b[0m 8ms/step - accuracy: 0.9998 - loss: 0.0010 - val_accuracy: 0.9772 - val_loss: 0.1341\n",
      "Epoch 28/30\n",
      "\u001b[1m329/329\u001b[0m \u001b[32m━━━━━━━━━━━━━━━━━━━━\u001b[0m\u001b[37m\u001b[0m \u001b[1m4s\u001b[0m 11ms/step - accuracy: 1.0000 - loss: 1.8307e-04 - val_accuracy: 0.9776 - val_loss: 0.1342\n",
      "Epoch 29/30\n",
      "\u001b[1m329/329\u001b[0m \u001b[32m━━━━━━━━━━━━━━━━━━━━\u001b[0m\u001b[37m\u001b[0m \u001b[1m5s\u001b[0m 14ms/step - accuracy: 1.0000 - loss: 1.1336e-04 - val_accuracy: 0.9777 - val_loss: 0.1357\n",
      "Epoch 30/30\n",
      "\u001b[1m329/329\u001b[0m \u001b[32m━━━━━━━━━━━━━━━━━━━━\u001b[0m\u001b[37m\u001b[0m \u001b[1m4s\u001b[0m 10ms/step - accuracy: 1.0000 - loss: 1.0029e-04 - val_accuracy: 0.9778 - val_loss: 0.1377\n"
     ]
    }
   ],
   "source": [
    "history = model.fit(x_train, y_train, epochs=30, batch_size=128, validation_split=0.3)"
   ]
  },
  {
   "cell_type": "markdown",
   "id": "efef4954",
   "metadata": {},
   "source": [
    "## Hinweise:\n",
    "\n",
    "- Das history-Objekt speichert den gesamten Trainingsverlauf (Loss und Accuracy je Epoche)\n",
    "- Nur dadurch ist es möglich, die Trainings- und Validierungskurven im Nachhinein zu plotten\n",
    "- Die resultierende Grafik zeigt beide Verläufe (Accuracy auf Trainings- und Validierungsdaten)\n",
    "- Bei einfachem MNIST (Ziffern 0–9) erreicht das Netz bereits sehr hohe Genauigkeit\n",
    "- Im Vergleich dazu ist Fashion-MNIST (Kleidungsstücke) komplexer und führt zu geringerer Genauigkeit\n",
    "- Ursache: visuelle Ähnlichkeit mancher Klassen (z. B. Shirt vs. Pullover)"
   ]
  },
  {
   "cell_type": "markdown",
   "id": "dc85bab3",
   "metadata": {},
   "source": [
    "## Trainingsverlauf (Feedforward-Netz)\n",
    "\n",
    "Vergleich im Trainingsdatensatz von sowohl Train- als auch Validationsaccuracy"
   ]
  },
  {
   "cell_type": "code",
   "execution_count": 7,
   "id": "8398b348",
   "metadata": {},
   "outputs": [
    {
     "data": {
      "image/png": "[encoded data removed]",
      "text/plain": [
       "<Figure size 640x480 with 1 Axes>"
      ]
     },
     "metadata": {},
     "output_type": "display_data"
    },
    {
     "data": {
      "text/plain": [
       "<Figure size 640x480 with 0 Axes>"
      ]
     },
     "metadata": {},
     "output_type": "display_data"
    }
   ],
   "source": [
    "fig, ax = plt.subplots()\n",
    "ax.set_title('Accuracy over epochs')\n",
    "ax.set_xlabel('epochs')\n",
    "ax.set_ylabel('accuracy')\n",
    "ax.plot(history.history['accuracy'], label='train')\n",
    "ax.plot(history.history['val_accuracy'], label='validation')\n",
    "ax.legend(loc='upper left')\n",
    "plt.show()\n",
    "plt.savefig('../figs/mnist_accuracy.png')"
   ]
  },
  {
   "cell_type": "markdown",
   "id": "fc4d7be8",
   "metadata": {},
   "source": [
    "## Convolutional Neural Networks (CNN) mit Fashion-MNIST\n",
    "Ziel: Verbesserung der Genauigkeit gegenüber einem einfachen Feedforward-Netz."
   ]
  },
  {
   "cell_type": "code",
   "execution_count": 8,
   "id": "12ffc139",
   "metadata": {},
   "outputs": [],
   "source": [
    "fashion = K.datasets.fashion_mnist\n",
    "(x_train_mf, y_train_mf), (x_test_mf, y_test_mf) = fashion.load_data()\n",
    "x_train_mf = x_train_mf / 255.0\n",
    "x_test_mf = x_test_mf / 255.0\n",
    "y_train_mf = K.utils.to_categorical(y_train_mf)\n",
    "y_test_mf = K.utils.to_categorical(y_test_mf)"
   ]
  },
  {
   "cell_type": "markdown",
   "id": "4cef36e1",
   "metadata": {},
   "source": [
    "## CNN-Architektur definieren\n",
    "\n",
    "1. Der erste Layer ist ein Conv2D-Layer:\n",
    "   - `32` Filter mit einer Kerneldimension von `3×3`\n",
    "   - **ReLU**-Aktivierung\n",
    "   - `input_shape=(28, 28, 1)`: Eingabebilder sind `28×28` Pixel mit 1 Kanal (grau)\n",
    "\n",
    "2. Anschließend reduziert ein **MaxPooling2D-Layer* die räumliche Dimension der\n",
    "Featuremaps\n",
    "\n",
    "3. Der **Flatten-Layer** wandelt die 2D-Ausgabe in einen 1D-Vektor um, sodass\n",
    "dieser an vollverbundene (Dense) Schichten übergeben werden kann\n",
    "\n",
    "4. Eine Dense-Schicht mit `100` **Neuronen** und **ReLU-Aktivierung* als Hidden-Layer\n",
    "\n",
    "5. Ausgabeschicht für `10` **Klassen** (z. B. Ziffern oder Kleidungsstücke),\n",
    "**Softmax-Aktivierung** liefert Wahrscheinlichkeiten"
   ]
  },
  {
   "cell_type": "code",
   "execution_count": 9,
   "id": "0d44c1fd",
   "metadata": {},
   "outputs": [
    {
     "name": "stderr",
     "output_type": "stream",
     "text": [
      "/home/iz/Dropbox/stuff/for-others/teaching/HFH/GKI/02-GKI-python/.venv/lib/python3.10/site-packages/keras/src/layers/convolutional/base_conv.py:107: UserWarning: Do not pass an `input_shape`/`input_dim` argument to a layer. When using Sequential models, prefer using an `Input(shape)` object as the first layer in the model instead.\n",
      "  super().__init__(activity_regularizer=activity_regularizer, **kwargs)\n"
     ]
    }
   ],
   "source": [
    "model2 = Sequential()\n",
    "model2.add(Conv2D(32, (3, 3), activation = 'relu', input_shape=(28, 28, 1)))\n",
    "model2.add(MaxPooling2D((2, 2)))\n",
    "model2.add(Flatten())\n",
    "model2.add(Dense(100, activation = 'relu'))\n",
    "model2.add(Dense(10, activation = 'softmax'))"
   ]
  },
  {
   "cell_type": "markdown",
   "id": "ba9f27ad",
   "metadata": {},
   "source": [
    "## Kompilierung des CNN-Modells\n",
    "\n",
    "- Optimierer: `Adam` (effizient, adaptiv)\n",
    "- Verlustfunktion: `categorical_crossentropy` (geeignet für mehrklassige\n",
    "Klassifikation mit One-Hot-Labels)\n",
    "- Metrik: `accuracy`"
   ]
  },
  {
   "cell_type": "code",
   "execution_count": 10,
   "id": "59ed58ab",
   "metadata": {},
   "outputs": [],
   "source": [
    "model2.compile(\n",
    "    optimizer = 'adam', loss = 'categorical_crossentropy',\n",
    "    metrics = ['accuracy'])"
   ]
  },
  {
   "cell_type": "code",
   "execution_count": 11,
   "id": "062a6422",
   "metadata": {},
   "outputs": [],
   "source": [
    "x_train_mf = x_train_mf.reshape(-1, 28, 28, 1)\n",
    "x_test_mf = x_test_mf.reshape(-1, 28, 28, 1)"
   ]
  },
  {
   "cell_type": "markdown",
   "id": "bb01aeb7",
   "metadata": {},
   "source": [
    "## Training des CNNs auf Fashion-MNIST\n",
    "\n",
    "- `x_train_mf` und `y_train_mf`: normalisierte Trainingsbilder und One-Hot-Labels\n",
    "- `x_test_mf` und `y_test_mf`: Testdaten zur Validierung\n",
    "- `30` Epochen, Batch-Größe `128`"
   ]
  },
  {
   "cell_type": "code",
   "execution_count": null,
   "id": "7d944aac",
   "metadata": {},
   "outputs": [
    {
     "name": "stdout",
     "output_type": "stream",
     "text": [
      "Epoch 1/30\n",
      "\u001b[1m469/469\u001b[0m \u001b[32m━━━━━━━━━━━━━━━━━━━━\u001b[0m\u001b[37m\u001b[0m \u001b[1m26s\u001b[0m 52ms/step - accuracy: 0.7778 - loss: 0.6366 - val_accuracy: 0.8578 - val_loss: 0.3816\n",
      "Epoch 2/30\n",
      "\u001b[1m 73/469\u001b[0m \u001b[32m━━━\u001b[0m\u001b[37m━━━━━━━━━━━━━━━━━\u001b[0m \u001b[1m20s\u001b[0m 52ms/step - accuracy: 0.8872 - loss: 0.3263"
     ]
    }
   ],
   "source": [
    "history = model2.fit(\n",
    "    x_train_mf, y_train_mf,\n",
    "    epochs = 30,\n",
    "    batch_size = 128,\n",
    "    validation_data = (x_test_mf, y_test_mf)\n",
    ")"
   ]
  },
  {
   "cell_type": "markdown",
   "id": "fac46df7",
   "metadata": {},
   "source": [
    "## Visualisierung des CNN-Trainingsverlaufs"
   ]
  },
  {
   "cell_type": "code",
   "execution_count": null,
   "id": "f93ca372",
   "metadata": {},
   "outputs": [],
   "source": [
    "fig, ax = plt.subplots()\n",
    "ax.set_title('Accuracy over epochs')\n",
    "ax.set_xlabel('epochs')\n",
    "ax.set_ylabel('accuracy')\n",
    "ax.plot(history.history['accuracy'], label = 'train')\n",
    "ax.plot(history.history['val_accuracy'], label = 'validation')\n",
    "ax.legend(loc = 'upper left')\n",
    "plt.show()\n",
    "plt.savefig('../figs/mnist_accuracy_convolutional.png')"
   ]
  },
  {
   "cell_type": "markdown",
   "id": "a499884b",
   "metadata": {},
   "source": [
    "## Zusammenfassung\n",
    "\n",
    "- Das CNN beginnt mit einem Conv2D-Layer:\n",
    "- Er verwendet 32 Filter mit einer Kernelgröße von 3x3\n",
    "- Diese extrahieren lokale Bildmerkmale (z. B. Kanten, Texturen)\n",
    "- Die erste Zahl (32) gibt die Anzahl der Filter (= Ausgabekanäle) an\n",
    "- Eine höhere Anzahl an Filtern erhöht die Modellkapazität, aber auch den Rechenaufwand\n",
    "\n",
    "In empirischen Tests zeigt sich:\n",
    "- Bereits einfache CNNs erreichen ~99 % Trainingsgenauigkeit und ~91 % Testgenauigkeit\n",
    "- Dies entspricht einem signifikanten Fortschritt gegenüber klassischen Feedforward-Netzen\n",
    "\n",
    "Für eine bessere Generalisierbarkeit wurden zusätzliche Experimente durchgeführt:\n",
    "- Variation der Anzahl der Filter im ersten Conv2D-Layer (z. B. 32, 40, 48, 56)\n",
    "- Das Modell mit 48 Filtern schnitt im Mittel am besten auf den Testdaten ab\n",
    "\n",
    "Eine weitere bewährte Technik zur Vermeidung von Overfitting ist der Einsatz eines Dropout-Layers:\n",
    "- Während des Trainings werden zufällig ausgewählte Neuronen deaktiviert\n",
    "- Dies verhindert eine zu starke Abhängigkeit von einzelnen Aktivierungen\n",
    "- Ziel: bessere Generalisierbarkeit auf unbekannte Daten\n"
   ]
  },
  {
   "cell_type": "markdown",
   "id": "21c065fa",
   "metadata": {},
   "source": [
    "## CNN mit Dropout zur Vermeidung von Overfitting\n",
    "Ein Dropout-Layer deaktiviert während des Trainings zufällig 10 % der Neuronen\n",
    "im vorherigen Layer. Ziel: Netz soll robuster gegen Überanpassung werden und besser auf neuen Daten generalisieren\n"
   ]
  },
  {
   "cell_type": "code",
   "execution_count": null,
   "id": "982d1623",
   "metadata": {},
   "outputs": [],
   "source": [
    "model = Sequential()\n",
    "model.add(Conv2D(32, (3, 3), activation = 'relu', input_shape=(28, 28, 1)))\n",
    "model.add(MaxPooling2D((2, 2)))\n",
    "model.add(Dropout(0.1)) # 10 % der Neuronen werden zufällig deaktiviert\n",
    "model.add(Flatten())\n",
    "model.add(Dense(100, activation = 'relu'))\n",
    "model.add(Dense(10, activation = 'softmax'))"
   ]
  }
 ],
 "metadata": {
  "kernelspec": {
   "display_name": "gki-venv",
   "language": "python",
   "name": "gki-venv"
  },
  "language_info": {
   "codemirror_mode": {
    "name": "ipython",
    "version": 3
   },
   "file_extension": ".py",
   "mimetype": "text/x-python",
   "name": "python",
   "nbconvert_exporter": "python",
   "pygments_lexer": "ipython3",
   "version": "3.10.12"
  }
 },
 "nbformat": 4,
 "nbformat_minor": 5
}
