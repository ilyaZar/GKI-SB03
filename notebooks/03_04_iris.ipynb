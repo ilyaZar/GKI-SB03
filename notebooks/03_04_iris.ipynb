{
 "cells": [
  {
   "cell_type": "markdown",
   "id": "494f72ce",
   "metadata": {},
   "source": [
    "# Entscheidungsbaum-Klassifikation mit dem Iris-Datensatz\n",
    "In diesem Notebook wird ein Entscheidungsbaum auf den bekannten Iris-Datensatz angewendet. Die einzelnen Schritte umfassen das Laden und Aufbereiten der Daten, das Trainieren eines Entscheidungsbaums, sowie Evaluierung und Visualisierung."
   ]
  },
  {
   "cell_type": "markdown",
   "id": "9d018b18",
   "metadata": {},
   "source": [
    "## 1. Importieren der benötigten Bibliothek zum Datenhandling"
   ]
  },
  {
   "cell_type": "code",
   "execution_count": null,
   "id": "e49935c1",
   "metadata": {},
   "outputs": [],
   "source": [
    "import pandas as pd"
   ]
  },
  {
   "cell_type": "markdown",
   "id": "4248f67e",
   "metadata": {},
   "source": [
    "## 2. Einlesen des Iris-Datensatzes\n",
    "Die Datei muss im CSV-Format vorliegen, Trennzeichen ist Komma.\n",
    "Ziel ist die Vorhersage der Art ('species') anhand von vier Merkmalen."
   ]
  },
  {
   "cell_type": "code",
   "execution_count": null,
   "id": "a4cf45da",
   "metadata": {},
   "outputs": [],
   "source": [
    "file_path = '../data/processed/iris.csv'\n",
    "df = pd.read_csv(file_path, sep=',')"
   ]
  },
  {
   "cell_type": "markdown",
   "id": "903c76cd",
   "metadata": {},
   "source": [
    "## 3. Feature-Ziel-Trennung\n",
    "`X` enthält alle erklärenden Variablen, `y` das Klassenlabel ('species')."
   ]
  },
  {
   "cell_type": "code",
   "execution_count": null,
   "id": "1c878f54",
   "metadata": {},
   "outputs": [],
   "source": [
    "features = [c for c in df.columns if c != 'species']\n",
    "X = df[features]\n",
    "y = df['species']"
   ]
  },
  {
   "cell_type": "markdown",
   "id": "b4629074",
   "metadata": {},
   "source": [
    "## 4. Aufteilen in Trainings- und Testdaten\n",
    "Verwendung von `stratify=y`, um die Klassenverteilung konstant zu halten."
   ]
  },
  {
   "cell_type": "code",
   "execution_count": null,
   "id": "307cb9c6",
   "metadata": {},
   "outputs": [],
   "source": [
    "from sklearn.model_selection import train_test_split\n",
    "X_tr, X_tst, y_tr, y_tst = train_test_split(\n",
    "    X, y, test_size=0.2, random_state=42, stratify=y\n",
    ")"
   ]
  },
  {
   "cell_type": "markdown",
   "id": "d8fa057f",
   "metadata": {},
   "source": [
    "## 5. Entscheidungsbaum trainieren\n",
    "Ein `DecisionTreeClassifier` mit Standardparametern (Gini-Kriterium)."
   ]
  },
  {
   "cell_type": "code",
   "execution_count": null,
   "id": "7956b1b6",
   "metadata": {},
   "outputs": [],
   "source": [
    "from sklearn.tree import DecisionTreeClassifier\n",
    "model = DecisionTreeClassifier()  # alternativ: criterion='entropy'\n",
    "model.fit(X_tr, y_tr)"
   ]
  },
  {
   "cell_type": "markdown",
   "id": "b9bee93f",
   "metadata": {},
   "source": [
    "## 6. Vorhersage und Evaluation\n",
    "Das Modell wird auf dem Testdatensatz evaluiert."
   ]
  },
  {
   "cell_type": "code",
   "execution_count": null,
   "id": "47bb7467",
   "metadata": {},
   "outputs": [],
   "source": [
    "y_predicted = model.predict(X_tst)"
   ]
  },
  {
   "cell_type": "markdown",
   "id": "bc401845",
   "metadata": {},
   "source": [
    "### 6.1 Konfusionsmatrix"
   ]
  },
  {
   "cell_type": "code",
   "execution_count": null,
   "id": "90ba4dc1",
   "metadata": {},
   "outputs": [],
   "source": [
    "from sklearn.metrics import confusion_matrix\n",
    "matrix = confusion_matrix(y_tst, y_predicted)\n",
    "print('Confusion Matrix:')\n",
    "print(matrix)"
   ]
  },
  {
   "cell_type": "markdown",
   "id": "597766fc",
   "metadata": {},
   "source": [
    "### 6.2 Klassifikationsbericht"
   ]
  },
  {
   "cell_type": "code",
   "execution_count": null,
   "id": "84f1900e",
   "metadata": {},
   "outputs": [],
   "source": [
    "from sklearn.metrics import classification_report\n",
    "report = classification_report(y_tst, y_predicted, digits=3)\n",
    "print('Classification Report:')\n",
    "print(report)"
   ]
  },
  {
   "cell_type": "markdown",
   "id": "a23514fd",
   "metadata": {},
   "source": [
    "## 7. Visualisierung des Entscheidungsbaums"
   ]
  },
  {
   "cell_type": "code",
   "execution_count": null,
   "id": "945d69af",
   "metadata": {},
   "outputs": [],
   "source": [
    "from sklearn.tree import plot_tree\n",
    "import matplotlib.pyplot as plt\n",
    "\n",
    "plt.figure(figsize=(12, 8))\n",
    "plot_tree(\n",
    "    model,\n",
    "    feature_names=features,\n",
    "    class_names=model.classes_,\n",
    "    filled=True,\n",
    "    rounded=True,\n",
    "    fontsize=6\n",
    ")\n",
    "plt.show()\n",
    "plt.savefig('../figs/baumstruktur.png', dpi=300, bbox_inches='tight')"
   ]
  },
  {
   "cell_type": "markdown",
   "id": "6d8dc396",
   "metadata": {},
   "source": [
    "## 8. Hinweise zur Interpretation\n",
    "- **Precision**: Wie zuverlässig sind positive Vorhersagen?\n",
    "- **Recall**: Wie viele der echten Positiven wurden erkannt?\n",
    "- **F1-Score**: Harmonie von Precision und Recall, besonders wichtig bei Imbalance.\n",
    "- **Confusion Matrix**: Zeigt Verwechslungen zwischen Klassen deutlich.\n",
    "\n",
    "**Visualisierung**:\n",
    "- Jeder Knoten zeigt Split-Merkmal, Reinheit (gini), Verteilung und Klasse.\n",
    "- `filled=True` färbt nach dominierender Klasse, `rounded=True` verbessert Lesbarkeit.\n",
    "\n",
    "**Modellkomplexität steuern mit**:\n",
    "- `max_depth`, `min_samples_split`, `ccp_alpha` (Pruning)"
   ]
  }
 ],
 "metadata": {
  "kernelspec": {
   "display_name": "Python 3",
   "name": "python3"
  }
 },
 "nbformat": 4,
 "nbformat_minor": 5
}
