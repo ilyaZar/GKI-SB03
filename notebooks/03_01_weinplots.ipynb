{
 "cells": [
  {
   "cell_type": "markdown",
   "id": "cbd1d831",
   "metadata": {},
   "source": [
    "# Vergleich der Alkoholgehalte von Rot- und Weißwein\n",
    "In diesem Notebook erstellen wir zwei Histogramme, um die Verteilung des Alkoholvolumens von Rot- und Weißwein grafisch zu vergleichen."
   ]
  },
  {
   "cell_type": "code",
   "execution_count": null,
   "id": "3d9b0854",
   "metadata": {},
   "outputs": [],
   "source": [
    "import pandas as pd\n",
    "import matplotlib.pyplot as plt"
   ]
  },
  {
   "cell_type": "markdown",
   "id": "85fafe16",
   "metadata": {},
   "source": [
    "## Einlesen der vorbereiteten Weindaten\n",
    "Die CSV-Dateien wurden bereits vorbereitet (Standardisierung, Spalten etc.) und befinden sich im Ordner `data/processed`."
   ]
  },
  {
   "cell_type": "code",
   "execution_count": null,
   "id": "f7689d2e",
   "metadata": {},
   "outputs": [],
   "source": [
    "white = pd.read_csv('../data/processed/winequality-white.csv', sep=';')\n",
    "red = pd.read_csv('../data/processed/winequality-red.csv', sep=';')"
   ]
  },
  {
   "cell_type": "markdown",
   "id": "dae5a560",
   "metadata": {},
   "source": [
    "## Erstellung der Plotstruktur\n",
    "Wir verwenden zwei nebeneinanderliegende Subplots für den Vergleich.\n",
    "`fig` ist das gesamte Figure-Objekt, d.h. der container für beide subplots.\n",
    "`ax` ist ein Array mit den zwei subplot Objekten."
   ]
  },
  {
   "cell_type": "code",
   "execution_count": null,
   "id": "7127b3dc",
   "metadata": {},
   "outputs": [],
   "source": [
    "fig, ax = plt.subplots(1, 2)"
   ]
  },
  {
   "cell_type": "markdown",
   "id": "944ffaa3",
   "metadata": {},
   "source": [
    "## Histogramme für Alkoholverteilungen\n",
    "Erzeugen der Histogramme. Die beiden zeigen jeweils die Häufigkeitsverteilung\n",
    "des Alkoholgehalts für Rotwein (links) und Weißwein (rechts)."
   ]
  },
  {
   "cell_type": "code",
   "execution_count": null,
   "id": "8ff99ff4",
   "metadata": {},
   "outputs": [],
   "source": [
    "ax[0].hist(red.alcohol, 10, facecolor='red', alpha=0.5, label='Rotwein')\n",
    "ax[1].hist(white.alcohol, 10, facecolor='green', alpha=0.5, label='Weißwein')"
   ]
  },
  {
   "cell_type": "markdown",
   "id": "b2f7f866",
   "metadata": {},
   "source": [
    "## Feinjustierung des Layouts\n",
    "Wir positionieren die Subplots passend im Gesamtbild und beschriften die Achsen:\n",
    "- gesamtplatzierung im Gesamt-figure object\n",
    "- setzen der Ober/Untergrenzen für den ersten plot der Rotweine (für\n",
    "Vergleichbarkeit mit Weißweinen, die häufiger vorkommen)\n",
    "- Achsenbeschriftungen und erzeugen der Überschrift des Gesamtplots"
   ]
  },
  {
   "cell_type": "code",
   "execution_count": null,
   "id": "509ba47b",
   "metadata": {},
   "outputs": [],
   "source": [
    "fig.subplots_adjust(left=0.15, right=0.9, bottom=0.25, top=0.75,\n",
    "                    hspace=0.05, wspace=0.5)\n",
    "ax[0].set_ylim([0, 1000])\n",
    "ax[0].set_xlabel('Alkoholvolumen in %')\n",
    "ax[0].set_ylabel('Häufigkeiten')\n",
    "ax[1].set_xlabel('Alkoholvolumen in %')\n",
    "ax[1].set_ylabel('Häufigkeiten')\n",
    "fig.suptitle('Verteilung nach Alkoholvolumen in %')"
   ]
  },
  {
   "cell_type": "markdown",
   "id": "e79119a5",
   "metadata": {},
   "source": [
    "## Gesamttitel und Dateiausgabe\n",
    "Die Visualisierung erhält einen gemeinsamen Titel und wird als PNG-Datei gespeichert."
   ]
  },
  {
   "cell_type": "code",
   "execution_count": null,
   "id": "51740931",
   "metadata": {},
   "outputs": [],
   "source": [
    "plt.savefig('../figs/alkoholverteilung.png')"
   ]
  }
 ],
 "metadata": {
  "kernelspec": {
   "display_name": "gki-venv",
   "language": "python",
   "name": "gki-venv"
  },
  "language_info": {
   "name": "python",
   "version": "3.10.12"
  }
 },
 "nbformat": 4,
 "nbformat_minor": 5
}
