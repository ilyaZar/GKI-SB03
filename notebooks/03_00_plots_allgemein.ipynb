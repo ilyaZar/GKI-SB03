{
 "cells": [
  {
   "cell_type": "markdown",
   "id": "bb53204e",
   "metadata": {},
   "source": [
    "# Temperaturverlauf über acht Tage\n",
    "In diesem Notebook werden Minimal- und Maximaltemperaturen über einen Zeitraum von acht Tagen grafisch dargestellt. Die Daten sind fiktiv und dienen der Übung von Plotfunktionen in Matplotlib."
   ]
  },
  {
   "cell_type": "code",
   "execution_count": null,
   "id": "a4a78e28",
   "metadata": {},
   "outputs": [],
   "source": [
    "import matplotlib.pyplot as plt"
   ]
  },
  {
   "cell_type": "markdown",
   "id": "651dae10",
   "metadata": {},
   "source": [
    "## Temperaturdaten eingeben\n",
    "Wir definieren eine Liste von Tagen sowie jeweils eine Liste der Minimal- und Maximaltemperaturen."
   ]
  },
  {
   "cell_type": "code",
   "execution_count": null,
   "id": "7dfd8670",
   "metadata": {},
   "outputs": [],
   "source": [
    "Tage = list(range(1, 9))\n",
    "Grad_min = [19.6, 24.1, 26.7, 28.3, 27.5, 30.5, 32.8, 33.1]\n",
    "Grad_max = [24.8, 28.9, 31.3, 33.0, 34.9, 35.6, 38.4, 39.2]"
   ]
  },
  {
   "cell_type": "markdown",
   "id": "f7376d60",
   "metadata": {},
   "source": [
    "## Achsenbeschriftung hinzufügen\n",
    "Die x-Achse steht für die Tagesnummer, die y-Achse für die Temperatur in Grad Celsius."
   ]
  },
  {
   "cell_type": "code",
   "execution_count": null,
   "id": "26f3cc68",
   "metadata": {},
   "outputs": [],
   "source": [
    "plt.xlabel('Tag')\n",
    "plt.ylabel('Temperatur in Grad Celsius')"
   ]
  },
  {
   "cell_type": "markdown",
   "id": "05c85280",
   "metadata": {},
   "source": [
    "## Plot der Temperaturkurven\n",
    "Zunächst zeichnen wir die Linien für Minimal- und Maximaltemperaturen. Anschließend fügen wir farbige Punkte hinzu, um die Daten besser sichtbar zu machen."
   ]
  },
  {
   "cell_type": "code",
   "execution_count": null,
   "id": "9ef1595b",
   "metadata": {},
   "outputs": [],
   "source": [
    "plt.plot(Tage, Grad_min)\n",
    "plt.plot(Tage, Grad_min, 'oy')  # gelbe Punkte für Minima\n",
    "plt.plot(Tage, Grad_max)\n",
    "plt.plot(Tage, Grad_max, 'or')  # rote Punkte für Maxima"
   ]
  },
  {
   "cell_type": "markdown",
   "id": "2be2b793",
   "metadata": {},
   "source": [
    "## Achsenskalierung festlegen\n",
    "Die Achsen sollen gleich bleiben, unabhängig von den Messwerten. Wir setzen manuell die Grenzen der x- und y-Achse."
   ]
  },
  {
   "cell_type": "code",
   "execution_count": null,
   "id": "4dd1d277",
   "metadata": {},
   "outputs": [],
   "source": [
    "xmin, xmax, ymin, ymax = 0, 10, 14, 45\n",
    "plt.axis((xmin, xmax, ymin, ymax))"
   ]
  },
  {
   "cell_type": "markdown",
   "id": "43188657",
   "metadata": {},
   "source": [
    "## Plot anzeigen und speichern\n",
    "Die Darstellung erfolgt zunächst im Notebook. Danach speichern wir den Plot als PNG-Datei in den Ordner `figs/`."
   ]
  },
  {
   "cell_type": "code",
   "execution_count": null,
   "id": "14d6bf03",
   "metadata": {},
   "outputs": [],
   "source": [
    "plt.show()\n",
    "plt.savefig('../figs/temperaturverlauf.png')"
   ]
  }
 ],
 "metadata": {
  "kernelspec": {
   "display_name": "Python 3",
   "name": "python3"
  }
 },
 "nbformat": 4,
 "nbformat_minor": 5
}
