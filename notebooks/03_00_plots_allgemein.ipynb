{
 "cells": [
  {
   "cell_type": "markdown",
   "id": "0ce5ae81",
   "metadata": {},
   "source": [
    "# Temperaturverlauf\n",
    "Dieser Plot zeigt minimale und maximale Temperaturen über 8 Tage."
   ]
  },
  {
   "cell_type": "code",
   "execution_count": null,
   "id": "8dd944d9",
   "metadata": {},
   "outputs": [],
   "source": [
    "import matplotlib.pyplot as plt"
   ]
  },
  {
   "cell_type": "code",
   "execution_count": null,
   "id": "4b6ec612",
   "metadata": {},
   "outputs": [],
   "source": [
    "# Plotten von Temperaturkurven\n",
    "Tage = list(range(1, 9))\n",
    "Grad_min = [19.6, 24.1, 26.7, 28.3, 27.5, 30.5, 32.8, 33.1]\n",
    "Grad_max = [24.8, 28.9, 31.3, 33.0, 34.9, 35.6, 38.4, 39.2]"
   ]
  },
  {
   "cell_type": "code",
   "execution_count": null,
   "id": "582fe291",
   "metadata": {},
   "outputs": [],
   "source": [
    "# Beschriftung der Achsen\n",
    "plt.xlabel('Tag')\n",
    "plt.ylabel('Temperatur in Grad Celsius')"
   ]
  },
  {
   "cell_type": "code",
   "execution_count": null,
   "id": "adaac208",
   "metadata": {},
   "outputs": [],
   "source": [
    "# Erzeugen der Plots\n",
    "plt.plot(Tage, Grad_min)\n",
    "plt.plot(Tage, Grad_min, \"oy\")\n",
    "plt.plot(Tage, Grad_max)\n",
    "plt.plot(Tage, Grad_max, \"or\")"
   ]
  },
  {
   "cell_type": "code",
   "execution_count": null,
   "id": "b10467f9",
   "metadata": {},
   "outputs": [],
   "source": [
    "# Festlegung der Achsendimension x: 0–10, y: 14–45\n",
    "xmin, xmax, ymin, ymax = 0, 10, 14, 45\n",
    "plt.axis((xmin, xmax, ymin, ymax))"
   ]
  },
  {
   "cell_type": "code",
   "execution_count": null,
   "id": "6cf5cbb6",
   "metadata": {},
   "outputs": [],
   "source": [
    "# Darstellung des Plots\n",
    "plt.show()"
   ]
  },
  {
   "cell_type": "code",
   "execution_count": null,
   "id": "7fc274ab",
   "metadata": {},
   "outputs": [],
   "source": [
    "# Speicherung des Plots\n",
    "plt.savefig(\"../figs/temperaturverlauf.png\")"
   ]
  }
 ],
 "metadata": {
  "kernelspec": {
   "display_name": "Python 3",
   "name": "python3"
  }
 },
 "nbformat": 4,
 "nbformat_minor": 5
}
